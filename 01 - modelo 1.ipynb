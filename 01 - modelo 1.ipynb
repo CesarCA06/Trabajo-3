{
 "cells": [
  {
   "cell_type": "code",
   "execution_count": null,
   "id": "a797ae40",
   "metadata": {},
   "outputs": [],
   "source": [
    "import pandas as pd\n",
    "from sklearn.model_selection import train_test_split, learning_curve\n",
    "from sklearn.linear_model import LinearRegression\n",
    "from sklearn.metrics import mean_squared_error, r2_score\n",
    "import numpy as np\n",
    "import matplotlib.pyplot as plt\n",
    "\n",
    "\n",
    "data = pd.read_csv('dataset.csv')\n",
    "X = data.iloc[:, :-1]  \n",
    "y = data.iloc[:, -1]   \n",
    "\n",
    "\n",
    "X_train, X_test, y_train, y_test = train_test_split(X, y, test_size=0.2, random_state=42)\n",
    "\n",
    "\n",
    "model = LinearRegression()\n",
    "model.fit(X_train, y_train)\n",
    "\n",
    "\n",
    "y_pred = model.predict(X_test)\n",
    "mse = mean_squared_error(y_test, y_pred)\n",
    "r2 = r2_score(y_test, y_pred)\n",
    "\n",
    "print(f\"Mean Squared Error: {mse}\")\n",
    "print(f\"R2 Score: {r2}\")\n",
    "\n",
    "\n",
    "train_sizes, train_scores, test_scores = learning_curve(\n",
    "    model, X, y, train_sizes=np.linspace(0.1, 1.0, 5), cv=5, scoring='r2'\n",
    ")\n",
    "train_scores_mean = np.mean(train_scores, axis=1)\n",
    "test_scores_mean = np.mean(test_scores, axis=1)\n",
    "\n",
    "plt.figure()\n",
    "plt.plot(train_sizes, train_scores_mean, label=\"Training score\")\n",
    "plt.plot(train_sizes, test_scores_mean, label=\"Validation score\")\n",
    "plt.title(\"Learning Curve (Regresión Lineal)\")\n",
    "plt.xlabel(\"Training Size\")\n",
    "plt.ylabel(\"Score\")\n",
    "plt.legend()\n",
    "plt.grid()\n",
    "plt.show()\n"
   ]
  }
 ],
 "metadata": {
  "language_info": {
   "name": "python"
  }
 },
 "nbformat": 4,
 "nbformat_minor": 5
}

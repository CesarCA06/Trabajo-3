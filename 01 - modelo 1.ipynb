{
 "cells": [
  {
   "cell_type": "code",
   "execution_count": null,
   "id": "2759b82a",
   "metadata": {},
   "outputs": [],
   "source": [
    "\n",
    "# Modelo 1: Regresión Lineal\n",
    "import pandas as pd\n",
    "from sklearn.linear_model import LinearRegression\n",
    "from sklearn.metrics import mean_squared_error\n",
    "from sklearn.model_selection import train_test_split\n",
    "from sklearn.impute import SimpleImputer\n",
    "\n",
    "# Cargar el conjunto de datos procesado\n",
    "datos = pd.read_csv(\"04 - dataset.csv\")\n",
    "\n",
    "# Seleccionar columnas numéricas\n",
    "columnas_numericas = datos.select_dtypes(include=[\"number\"]).columns\n",
    "X = datos[columnas_numericas].drop(columns=[\"-- PctIlleg\"], errors='ignore')\n",
    "y = datos[\"-- PctIlleg\"]\n",
    "\n",
    "# Imputar valores faltantes\n",
    "imputador = SimpleImputer(strategy=\"mean\")\n",
    "X_imputado = imputador.fit_transform(X)\n",
    "y_imputado = imputador.fit_transform(y.values.reshape(-1, 1)).ravel()\n",
    "\n",
    "# Dividir los datos\n",
    "X_entrenamiento, X_prueba, y_entrenamiento, y_prueba = train_test_split(X_imputado, y_imputado, test_size=0.2, random_state=42)\n",
    "\n",
    "# Crear y entrenar el modelo\n",
    "modelo = LinearRegression()\n",
    "modelo.fit(X_entrenamiento, y_entrenamiento)\n",
    "\n",
    "# Evaluar el modelo\n",
    "predicciones = modelo.predict(X_prueba)\n",
    "mse = mean_squared_error(y_prueba, predicciones)\n",
    "\n",
    "print(f\"Error cuadrático medio (MSE): {mse}\")\n"
   ]
  }
 ],
 "metadata": {},
 "nbformat": 4,
 "nbformat_minor": 5
}
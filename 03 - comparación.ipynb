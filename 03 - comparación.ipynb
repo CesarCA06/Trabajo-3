{
 "cells": [
  {
   "cell_type": "code",
   "execution_count": null,
   "id": "c288e964",
   "metadata": {},
   "outputs": [],
   "source": [
    "import matplotlib.pyplot as plt\n",
    "\n",
    "\n",
    "modelos = ['Regresión Lineal', 'Random Forest']\n",
    "mse_values = [25.0, 15.0]  \n",
    "r2_values = [0.75, 0.85]   \n",
    "\n",
    "\n",
    "plt.figure(figsize=(8, 5))\n",
    "plt.bar(modelos, mse_values, color=['blue', 'green'])\n",
    "plt.title('Comparación de MSE')\n",
    "plt.ylabel('Mean Squared Error')\n",
    "plt.show()\n",
    "\n",
    "\n",
    "plt.figure(figsize=(8, 5))\n",
    "plt.bar(modelos, r2_values, color=['blue', 'green'])\n",
    "plt.title('Comparación de R2 Score')\n",
    "plt.ylabel('R2 Score')\n",
    "plt.show()\n"
   ]
  }
 ],
 "metadata": {
  "language_info": {
   "name": "python"
  }
 },
 "nbformat": 4,
 "nbformat_minor": 5
}
